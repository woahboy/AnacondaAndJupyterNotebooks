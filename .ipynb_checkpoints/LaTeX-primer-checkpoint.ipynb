{
 "cells": [
  {
   "cell_type": "markdown",
   "metadata": {},
   "source": [
    "## A Primer On Using LaTeX in Jupyter Notebooks\n",
    "[Jupyter Notebooks](http://jupyter.org/) have become one of the dominant tools for data scientists. Noteboks allow you to have code, text, math notation, and images all in the same document. They are also easily shareable so others can repeat the analysis, such as detecting [gravitational waves with LIGO](https://losc.ligo.org/s/events/GW150914/GW150914_tutorial.html). Notebooks have also been used as entire [online textbooks](http://camdavidsonpilon.github.io/Probabilistic-Programming-and-Bayesian-Methods-for-Hackers/)."
   ]
  },
  {
   "cell_type": "markdown",
   "metadata": {},
   "source": [
    "One of my favorite features is using [LaTeX](https://www.latex-project.org/) (pronounced Lah-Tek) to include mathematical notation directly in the text, rendered with MathJax. If you haven't encountered it before, LaTeX is the standard for typesetting technical and scientific documents. With LaTeX, you can write any document but it also includes the capability to write out mathematical notation. MathJax uses the LaTeX symbols to render math directly in the browser. "
   ]
  },
  {
   "cell_type": "markdown",
   "metadata": {},
   "source": [
    "This is an extremely useful feature of Jupyter notebooks, but many people lack the LaTeX experience to take advantage of it. So here I'm going to provide a primer on writing mathematical notation in LaTeX. This won't cover everything LaTeX can do (apparently it's [Turing complete](https://www.sharelatex.com/blog/2012/04/24/latex-is-more-powerful-than-you-think.html)), instead I'll give you the basics so you can get started including math notation in your notebooks."
   ]
  },
  {
   "cell_type": "markdown",
   "metadata": {},
   "source": [
    "### Math typesetting basics\n",
    "There are two modes for writing LaTeX in notebooks, inline and display. Inline expressions are rendered inline with text, while displayed expressions are on their own lines. Inline mode looks like this: $e^{i\\pi} + 1 = 0$ and display mode looks like this $$e^x = \\sum_{n=0}^\\infty \\frac{n^x}{n!}$$\n",
    "\n",
    "The math is rendered differently depending on the mode, see the same equation as above as an inline expression: $e^x = \\sum_{n=0}^\\infty \\frac{n^x}{n!}$ "
   ]
  },
  {
   "cell_type": "markdown",
   "metadata": {},
   "source": [
    "To write math inline, you use single dollar signs like this `$y=mx+b$` which results in $y=mx+b$. Everything between the dollar signs is rendered as mathematical notation. To create a display expression, use two dollar signs `$$P(A\\mid B) = \\frac{P(B\\mid A)P(A)}{P(B)}$$` which looks like $$P(A\\mid B) = \\frac{P(B\\mid A)P(A)}{P(B)}$$"
   ]
  },
  {
   "cell_type": "markdown",
   "metadata": {},
   "source": [
    "### Superscript and Subscript\n",
    "Superscript for exponents is done with a caret, `$x^2$` gives $x^2$. Sometimes you'll want multiple things in the exponent and you might try `$e^2x$` but that doe this $e^2x$. Instead, if you wrap the exponent in braces: `$e^{2x}$` renders as $e^{2x}$. You can similarly use subscript text using underscore `x_i` is $x_i$. The underscore can be used without a leading character too: `_{10}C_5` is $_{10}C_5$"
   ]
  },
  {
   "cell_type": "markdown",
   "metadata": {},
   "source": [
    "### Commands\n",
    "Special symbols and formattings are written using commands. Each command starts with a backslash, followed by the command name. For example, to create a square root radical, `$\\sqrt{2\\pi}$` gives $\\sqrt{2\\pi}$. The braces `{}` include the contents under the radical and `\\pi` renders as the Greek letter pi $(\\pi)$. Displaying the fraction above is done with the `\\frac` command. It takes two inputs, one for the numerator and one for the denominator, each enclosed in braces. "
   ]
  },
  {
   "cell_type": "markdown",
   "metadata": {},
   "source": [
    "### Symbols\n",
    "Symbols are written with a backslash then the symbol name. There's a huge number of symbols so this will just be a brief listing.\n",
    "\n",
    "- For Greek letters use `\\alpha`, `\\beta`, `\\gamma`: $\\alpha, \\beta, \\gamma$. You can do uppercase too: `\\Phi`, `\\Lambda`, `\\Gamma`: $\\Phi, \\Lambda, \\Gamma$. Note that uppercase beta is just $B$, so there is no `\\Beta`.\n",
    "- Operators like multiplication and convolution, `\\times`, `\\pm`, `\\cup`, `\\oplus`: $\\times, \\pm, \\cup, \\oplus$\n",
    "- Trigonometry functions like `\\sin`, `\\cosh`, `\\arctan`: $\\sin, \\cosh, \\arctan$. You want to use these commands instead of just writing `sin`, otherwise you get $sin(kx-\\omega t)$ instead of $\\sin(kx-\\omega t)$\n",
    "- Relations such as `\\leq`, `\\geq`, `\\approx`, `\\neq`: $\\leq, \\geq, \\approx, \\neq$\n",
    "- Triple dots like `\\cdots`, `\\ldots`, `\\ddots`: $\\cdots, \\ldots, \\ddots$\n",
    "- Other various symbols like: `\\infty`, `\\nabla`, `\\partial`: $\\infty, \\nabla, \\partial$\n",
    "\n",
    "Here's a [list of symbols](http://oeis.org/wiki/List_of_LaTeX_mathematical_symbols) available in MathJax."
   ]
  },
  {
   "cell_type": "markdown",
   "metadata": {},
   "source": [
    "### Accents\n",
    "- Put a hat on it: `\\hat x` gives $\\hat x$. To put a hat over multiple letters, use `\\widehat{abs}`: $\\widehat{abs}$\n",
    "- For means, you'd typcially put a bar over the variable. Use `\\bar x`: $\\bar x$. For a long bar over multiple letters use `\\overline{abs}`: $\\overline{abs}$\n",
    "- Derivatives use dots like `\\dot x` and `\\ddot x`: $\\dot x, \\ddot x$\n",
    "- Arrows: `\\vec{x}`, `\\overrightarrow{xy}`: $\\vec{x}, \\overrightarrow{xy}$"
   ]
  },
  {
   "cell_type": "markdown",
   "metadata": {},
   "source": [
    "### Parentheses, Brackets, Braces\n",
    "Parentheses and other brackets aren't \"stretchy\" by default. That is, they don't stretch to the full height of the contents as with `z = (\\frac{dx}{dy})^{1/3}`: $$z = (\\frac{dx}{dy})^{1/3}$$\n",
    "\n",
    "To make brackets stretchy, use `\\left` and `\\right`, like this `$$z = \\left(\\frac{dx}{dy}\\right)^{1/3}$$` $$z = \\left(\\frac{dx}{dy}\\right)^{1/3}$$\n",
    "\n",
    "There are some special brackets you can create that aren't on your keyboard.\n",
    "- Vertical lines with `|` or `\\vert` like so $|x|$ or $\\vert x\\vert$. Use `\\mid` for lines between brackets. $P(A\\vert B)$, uses `\\vert` while $P(A\\mid B)$ is `P(A\\mid B)`\n",
    "- Angle brackets: `$\\langle \\phi \\mid \\psi \\rangle$` gives $\\langle \\phi \\mid \\psi \\rangle$\n",
    "- Group brackets for matrices (also, hey, here's how to make a matrix): `\\left\\lgroup \\matrix{a & b\\cr c & d} \\right\\rgroup` $$\\left\\lgroup \\matrix{a & b\\cr c & d} \\right\\rgroup$$"
   ]
  },
  {
   "cell_type": "markdown",
   "metadata": {
    "collapsed": true
   },
   "source": [
    "### Typefaces and font options\n",
    "- For non-italicized Roman text, user `\\textrm{Roman}` or `\\rm Roman`: $\\textrm{Roman}$ or $\\rm Roman$\n",
    "- To change the font size: `\\rm\\tiny tine \\Tiny Tiny \\small small \\normalsize normal \\large lg \\Large Lg \\LARGE LG \\huge hg \\Huge Hg` $$\\rm\\tiny tine \\Tiny Tiny \\small small \\normalsize normal \\large lg \\Large Lg \\LARGE LG \\huge hg \\Huge Hg$$\n",
    "- Boldface `\\mathbf`: $\\mathbf{abcdefghijklmnopqrstuvwxyz0123456789ABCDEFGHIJKLMNOPQRSTUVWXYZ}$\n",
    "- Italics `\\mathit`: $\\mathit{abcdefghijklmnopqrstuvwxyz0123456789ABCDEFGHIJKLMNOPQRSTUVWXYZ}$\n",
    "- Sans serif `\\mathsf`: $\\mathsf{abcdefghijklmnopqrstuvwxyz0123456789ABCDEFGHIJKLMNOPQRSTUVWXYZ}$\n",
    "- Typewriter `\\mathtt`: $\\mathtt{abcdefghijklmnopqrstuvwxyz0123456789ABCDEFGHIJKLMNOPQRSTUVWXYZ}$\n",
    "- Calligraphic `\\mathcal`: $\\mathcal{abcdefghijklmnopqrstuvwxyz0123456789ABCDEFGHIJKLMNOPQRSTUVWXYZ}$\n",
    "- Blackboard bold `\\mathbb`: $\\mathbb{abcdefghijklmnopqrstuvwxyz0123456789ABCDEFGHIJKLMNOPQRSTUVWXYZ}$"
   ]
  },
  {
   "cell_type": "markdown",
   "metadata": {},
   "source": [
    "### Spaces\n",
    "Spaces between symbols are removed from LaTeX formulas: `\\int f(x) dx` looks like $\\int f(x) dx$. There is no space between the function and $dx$. You can add spaces with `\\,`, `\\:`, `\\;` for small, medium, and large spaces respectively. Adding a bit of space, `\\int f(x)\\,dx` gives $\\int f(x)\\,dx$.\n",
    "\n",
    "For larger spaces, use `\\quad` and `\\qquad`. The first is a 1em space $x\\quad y$, the second is a 2 em space $x\\qquad y$"
   ]
  },
  {
   "cell_type": "markdown",
   "metadata": {},
   "source": [
    "### Escaping characters\n",
    "Sometimes you'll want ot use special characters like `{` and `_` that don't normally render with LaTeX. You need to excape them with an extra backslash. `\\{`, `\\_`, `\\$` for $\\{, \\_, \\$$. For an actual backslash, use `\\backslash` to get $\\backslash$ because `\\\\` is used for a new line."
   ]
  },
  {
   "cell_type": "markdown",
   "metadata": {},
   "source": [
    "### Aligned equations\n",
    "One thing I find useful is aligning multiple equations on successive lines. You can start new line with `\\\\` like so:"
   ]
  },
  {
   "cell_type": "markdown",
   "metadata": {},
   "source": [
    "$$\n",
    "a_1 = b_1 + c_1 \\\\m\n",
    "a_2 = b_2 + c_2 + d_2\n",
    "$$"
   ]
  },
  {
   "cell_type": "markdown",
   "metadata": {},
   "source": [
    "$$\n",
    "a_1 = b_1 + c_1 \\\\m\n",
    "a_2 = b_2 + c_2 + d_2\n",
    "$$"
   ]
  },
  {
   "cell_type": "markdown",
   "metadata": {},
   "source": [
    "\n",
    "The equal signs don't line up though which can affect readabiliy. Instead $$, start the display expression with `\\begin{align}` and end it with `\\end{align}`. Then put ampersand (&) where you want the equations to line up:"
   ]
  },
  {
   "cell_type": "markdown",
   "metadata": {},
   "source": [
    "\\begin{align}\n",
    "a_1 & = b_1 + c_1 \\\\\n",
    "a_2 & = b_2 + c_2 + d_2\n",
    "\\end{align}"
   ]
  },
  {
   "cell_type": "markdown",
   "metadata": {
    "collapsed": true
   },
   "source": [
    "\\begin{align}\n",
    "a_1 & = b_1 + c_1 \\\\\n",
    "a_2 & = b_2 + c_2 + d_2\n",
    "\\end{align}"
   ]
  },
  {
   "cell_type": "markdown",
   "metadata": {},
   "source": [
    "### Finishing up \n",
    "Here's a [comprehensive list](http://www.onemathematicalcat.org/MathJaxDocumentation/TeXSyntax.htm) of all symbols and commands available in MathJax (it's BIG). If you know what symbol you want, but don't know what it's called, try drawing it out [with detexify](http://detexify.kirelabs.org/classify.html)."
   ]
  },
  {
   "cell_type": "code",
   "execution_count": null,
   "metadata": {
    "collapsed": true
   },
   "outputs": [],
   "source": []
  }
 ],
 "metadata": {
  "kernelspec": {
   "display_name": "Python 3",
   "language": "python",
   "name": "python3"
  },
  "language_info": {
   "codemirror_mode": {
    "name": "ipython",
    "version": 3
   },
   "file_extension": ".py",
   "mimetype": "text/x-python",
   "name": "python",
   "nbconvert_exporter": "python",
   "pygments_lexer": "ipython3",
   "version": "3.6.1"
  }
 },
 "nbformat": 4,
 "nbformat_minor": 2
}
